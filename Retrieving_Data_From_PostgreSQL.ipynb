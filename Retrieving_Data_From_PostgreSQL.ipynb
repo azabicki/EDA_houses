{
 "cells": [
  {
   "cell_type": "markdown",
   "metadata": {},
   "source": [
    "# SQL in Python - Connecting to and retrieving data from PostgreSQL"
   ]
  },
  {
   "cell_type": "code",
   "execution_count": 1,
   "metadata": {},
   "outputs": [],
   "source": [
    "import pandas as pd\n",
    "import os\n",
    "from sqlalchemy import create_engine\n",
    "from dotenv import load_dotenv"
   ]
  },
  {
   "attachments": {},
   "cell_type": "markdown",
   "metadata": {},
   "source": [
    "### 1. Read the .env file with the `dotenv` package to get the `DBSTRING`:"
   ]
  },
  {
   "cell_type": "code",
   "execution_count": 2,
   "metadata": {},
   "outputs": [],
   "source": [
    "load_dotenv()\n",
    "DB_STRING = os.getenv('DB_STRING')\n",
    "db = create_engine(DB_STRING)"
   ]
  },
  {
   "cell_type": "markdown",
   "metadata": {},
   "source": [
    "### 2. Then you can import that engine with a query into a pandas dataframe."
   ]
  },
  {
   "cell_type": "code",
   "execution_count": 3,
   "metadata": {},
   "outputs": [],
   "source": [
    "# Path to your SQL file\n",
    "sql_file_path = 'query.sql'\n",
    "\n",
    "# Read SQL file\n",
    "with open(sql_file_path, 'r') as file:\n",
    "    query_string = file.read()\n",
    "\n",
    "#import the data to a pandas dataframe\n",
    "df_sqlalchemy = pd.read_sql(query_string, db)"
   ]
  },
  {
   "cell_type": "markdown",
   "metadata": {},
   "source": [
    "### 3. Check if DatFrame looks correct."
   ]
  },
  {
   "cell_type": "code",
   "execution_count": 4,
   "metadata": {},
   "outputs": [
    {
     "name": "stdout",
     "output_type": "stream",
     "text": [
      "<class 'pandas.core.frame.DataFrame'>\n",
      "RangeIndex: 21597 entries, 0 to 21596\n",
      "Data columns (total 23 columns):\n",
      " #   Column         Non-Null Count  Dtype  \n",
      "---  ------         --------------  -----  \n",
      " 0   date           21597 non-null  object \n",
      " 1   price          21597 non-null  float64\n",
      " 2   house_id       21597 non-null  int64  \n",
      " 3   id             21597 non-null  int64  \n",
      " 4   id             21597 non-null  int64  \n",
      " 5   bedrooms       21597 non-null  float64\n",
      " 6   bathrooms      21597 non-null  float64\n",
      " 7   sqft_living    21597 non-null  float64\n",
      " 8   sqft_lot       21597 non-null  float64\n",
      " 9   floors         21597 non-null  float64\n",
      " 10  waterfront     19206 non-null  float64\n",
      " 11  view           21534 non-null  float64\n",
      " 12  condition      21597 non-null  int64  \n",
      " 13  grade          21597 non-null  int64  \n",
      " 14  sqft_above     21597 non-null  float64\n",
      " 15  sqft_basement  21145 non-null  float64\n",
      " 16  yr_built       21597 non-null  int64  \n",
      " 17  yr_renovated   17749 non-null  float64\n",
      " 18  zipcode        21597 non-null  int64  \n",
      " 19  lat            21597 non-null  float64\n",
      " 20  long           21597 non-null  float64\n",
      " 21  sqft_living15  21597 non-null  float64\n",
      " 22  sqft_lot15     21597 non-null  float64\n",
      "dtypes: float64(15), int64(7), object(1)\n",
      "memory usage: 3.8+ MB\n"
     ]
    }
   ],
   "source": [
    "df_sqlalchemy.info()"
   ]
  },
  {
   "attachments": {},
   "cell_type": "markdown",
   "metadata": {},
   "source": [
    "### 4. Fix some minor columns name issues and sort ìd`to first columns"
   ]
  },
  {
   "cell_type": "code",
   "execution_count": 5,
   "metadata": {},
   "outputs": [
    {
     "name": "stdout",
     "output_type": "stream",
     "text": [
      "<class 'pandas.core.frame.DataFrame'>\n",
      "RangeIndex: 21597 entries, 0 to 21596\n",
      "Data columns (total 21 columns):\n",
      " #   Column         Non-Null Count  Dtype  \n",
      "---  ------         --------------  -----  \n",
      " 0   id             21597 non-null  int64  \n",
      " 1   date           21597 non-null  object \n",
      " 2   price          21597 non-null  float64\n",
      " 3   bedrooms       21597 non-null  float64\n",
      " 4   bathrooms      21597 non-null  float64\n",
      " 5   sqft_living    21597 non-null  float64\n",
      " 6   sqft_lot       21597 non-null  float64\n",
      " 7   floors         21597 non-null  float64\n",
      " 8   waterfront     19206 non-null  float64\n",
      " 9   view           21534 non-null  float64\n",
      " 10  condition      21597 non-null  int64  \n",
      " 11  grade          21597 non-null  int64  \n",
      " 12  sqft_above     21597 non-null  float64\n",
      " 13  sqft_basement  21145 non-null  float64\n",
      " 14  yr_built       21597 non-null  int64  \n",
      " 15  yr_renovated   17749 non-null  float64\n",
      " 16  zipcode        21597 non-null  int64  \n",
      " 17  lat            21597 non-null  float64\n",
      " 18  long           21597 non-null  float64\n",
      " 19  sqft_living15  21597 non-null  float64\n",
      " 20  sqft_lot15     21597 non-null  float64\n",
      "dtypes: float64(15), int64(5), object(1)\n",
      "memory usage: 3.5+ MB\n"
     ]
    }
   ],
   "source": [
    "df_sqlalchemy.drop([\"id\"], axis=1, inplace=True)\n",
    "df_sqlalchemy.rename(columns={'house_id': 'id'}, inplace=True)\n",
    "df_sqlalchemy = df_sqlalchemy.iloc[:, [2,0,1,3,4,5,6,7,8,9,10,11,12,13,14,15,16,17,18,19,20]]\n",
    "df_sqlalchemy.info()"
   ]
  },
  {
   "cell_type": "markdown",
   "metadata": {},
   "source": [
    "### 5. Save data into csv"
   ]
  },
  {
   "cell_type": "code",
   "execution_count": 6,
   "metadata": {},
   "outputs": [],
   "source": [
    "#export the data to a csv-file\n",
    "df_sqlalchemy.to_csv('data/eda.csv',index=False)"
   ]
  }
 ],
 "metadata": {
  "kernelspec": {
   "display_name": "Python 3.9.12 ('.venv': venv)",
   "language": "python",
   "name": "python3"
  },
  "language_info": {
   "codemirror_mode": {
    "name": "ipython",
    "version": 3
   },
   "file_extension": ".py",
   "mimetype": "text/x-python",
   "name": "python",
   "nbconvert_exporter": "python",
   "pygments_lexer": "ipython3",
   "version": "3.12.2"
  },
  "vscode": {
   "interpreter": {
    "hash": "86bfcc733a99316639cfae738bd2c12342c3c5e2c4e3f470908e9f9639795c12"
   }
  }
 },
 "nbformat": 4,
 "nbformat_minor": 4
}
